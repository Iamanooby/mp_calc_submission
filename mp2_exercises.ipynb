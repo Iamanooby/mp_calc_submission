{
 "cells": [
  {
   "cell_type": "markdown",
   "metadata": {},
   "source": [
    "# Mini Project: Sorting and Evaluating Math Expressions"
   ]
  },
  {
   "cell_type": "markdown",
   "metadata": {},
   "source": [
    "## Week 3"
   ]
  },
  {
   "cell_type": "markdown",
   "metadata": {},
   "source": [
    "**Q1.** *Mergesort:* Modify your `mergesort(array)` function that you did in your cohort session to take one additional argument called `byfunc`, i.e. `mergesort(array, byfunc)`. If the caller does not specify the value of `byfunc`, its default value is `None`. When this argument is `None`, the function `mergesort` behaves similar to your cohort session by sorting the array according to its values. However, when the value of this argument is not `None` but rather some other function, your `mergesort` function should sort the array according to the value returned by this function. \n",
    "\n",
    "For example, instead of sorting an array of integers, we want to sort an array of tupple.\n",
    "```python\n",
    "array = [(1, 2), (3, 2), (2, -1), (4, 7), (-1, -2)]\n",
    "```\n",
    "We can define a function say `select()` as follows:\n",
    "```python\n",
    "def select(item):\n",
    "    return item[0]\n",
    "```\n",
    "\n",
    "You can then should be able to call your `mergesort()` function in the following:\n",
    "```python\n",
    "mergesort(array, select)\n",
    "```\n",
    "which will sort the list of tuples according to the value of its *first* element (recall `item[0]` in `select()`). This means that if you want to sort based on the *second* element of the tuple, you can redefine select as:\n",
    "```python\n",
    "def select(item):\n",
    "    return item[1]\n",
    "```\n",
    "\n",
    "You can also apply this to a list of objects, say `User` class objects.\n",
    "```python\n",
    "array = [<User 1>, <User 2>, <User 3>, ..., <User 101>]\n",
    "```\n",
    "You can define the following `select()` function to sort according to its `username` attribute.\n",
    "```python\n",
    "def select(item):\n",
    "    return item.username\n",
    "```\n",
    "\n",
    "You can then call the `mergesort()` function as follows:\n",
    "```python\n",
    "mergesort(array, select)\n",
    "```\n",
    "\n",
    "Python allows you to write [lambda functions](https://realpython.com/python-lambda/) to replace your `select()` function definition. You can simply call merge sort with the following without defining `select()`.\n",
    "```python\n",
    "mergesort(array, lambda item: item.username)\n",
    "```"
   ]
  },
  {
   "cell_type": "code",
   "execution_count": 27,
   "metadata": {},
   "outputs": [],
   "source": [
    "def mergesort(array, byfunc=None):\n",
    "  len_array = len(array)\n",
    "  if len_array<=1:\n",
    "    pass\n",
    "  else:\n",
    "    arrayL_len  = len_array//2\n",
    "    arrayR_len  = len_array- arrayL_len\n",
    "    arrayL = array[:arrayL_len]\n",
    "    arrayR = array[arrayL_len:]\n",
    "    mergesort(arrayL,byfunc)\n",
    "    mergesort(arrayR,byfunc)\n",
    "    i = 0\n",
    "    j = 0\n",
    "    k = 0\n",
    "\n",
    "    while i< arrayL_len and j < arrayR_len:\n",
    "      left_array_element = byfunc(arrayL[i])\n",
    "      right_array_element = byfunc(arrayR[j])\n",
    "\n",
    "      # if not isinstance(left_array_element,int):\n",
    "      #   i+=1 # skip this element\n",
    "      \n",
    "      # if not isinstance(right_array_element,int):\n",
    "      #   j+=1 # skip this element\n",
    "\n",
    "      # if isinstance(left_array_element,int) and isinstance(right_array_element,int):\n",
    "      #   if left_array_element<=right_array_element:\n",
    "      #     array[k] = arrayL[i]\n",
    "      #     k+=1\n",
    "      #     i+=1\n",
    "      #   else:\n",
    "      #     array[k] = arrayR[j]\n",
    "      #     k+=1\n",
    "      #     j+=1\n",
    "      # #everything below is to account for un registered scores\n",
    "      # elif isinstance(left_array_element,int) and not isinstance(right_array_element,int):\n",
    "      #   array[k] = arrayL[i]\n",
    "      #   k+=1\n",
    "      #   i+=1\n",
    "      # elif not isinstance(left_array_element,int) and isinstance(right_array_element,int):\n",
    "      #   array[k] = arrayR[j]\n",
    "      #   k+=1\n",
    "      #   j+=1\n",
    "      # else:#this basically just appends neither but adds j and i\n",
    "      if left_array_element<=right_array_element:\n",
    "        array[k] = arrayL[i]\n",
    "        k+=1\n",
    "        i+=1\n",
    "      else:\n",
    "        array[k] = arrayR[j]\n",
    "        k+=1\n",
    "        j+=1\n",
    "        \n",
    "        \n",
    "    \n",
    "    if i< arrayL_len: array[k:] = arrayL[i:]\n",
    "        # array[k] = arrayL[i]\n",
    "        # k+=1\n",
    "        # i+=1\n",
    "\n",
    "    if j< arrayR_len: array[k:] = arrayR[j:]\n",
    "        # array[k] = arrayR[j]\n",
    "        # k+=1\n",
    "        # j+=1\n",
    "\n",
    "  return array\n",
    "\n",
    "    "
   ]
  },
  {
   "cell_type": "code",
   "execution_count": 28,
   "metadata": {},
   "outputs": [
    {
     "name": "stdout",
     "output_type": "stream",
     "text": [
      "[1]\n"
     ]
    }
   ],
   "source": [
    "array = [1]\n",
    "mergesort(array, lambda item: item[0])\n",
    "print(array)"
   ]
  },
  {
   "cell_type": "code",
   "execution_count": 29,
   "metadata": {},
   "outputs": [],
   "source": [
    "array = [(1, 2), (3, 2), (2, -1), (4, 7), (-1, -2)]\n",
    "mergesort(array, lambda item: item[0])\n",
    "assert array == [(-1, -2), (1, 2), (2, -1), (3, 2), (4, 7)]\n",
    "mergesort(array, lambda item: item[1])\n",
    "assert array == [(-1, -2), (2, -1), (1, 2), (3, 2), (4, 7)]"
   ]
  },
  {
   "cell_type": "code",
   "execution_count": 30,
   "metadata": {},
   "outputs": [
    {
     "name": "stdout",
     "output_type": "stream",
     "text": [
      "[(1, 2), (2, -1), (3, 2), (5, 7)]\n"
     ]
    }
   ],
   "source": [
    "array = [(1, 2), (3, 2), (2, -1), (5, 7)]\n",
    "mergesort(array, lambda item: item[0])\n",
    "print (array)"
   ]
  },
  {
   "cell_type": "markdown",
   "metadata": {},
   "source": [
    "**Q2.** Create a class called `EvaluateExpression` to evaluate mathematical expressions for Integers. The class has the following property:\n",
    "- `expression`: which is a property with a get and set method. The set method of this property should check if the string contains any invalid characters. If there is any invalid character, it should set the internal property `expr` to an empty String. Otherwise, it should set the string as it is. Valid characters are: `0123456789+-*/()` and an empty space.\n",
    "- `expr`: which is a property that stores only valid expression. It is used internally to store the expression.\n",
    "\n",
    "During object instantiation, a string can be passed on to `__init__()`.\n",
    "- `__init__(expr)`: where expr is the mathematical expression to initialize the property `expr`. If nothing is provided it should initialize to an empty String. If the string contains other characters besides those in the valid characters list above, the property `expr` should be initialized to an empty string.\n",
    "\n",
    "\n"
   ]
  },
  {
   "cell_type": "code",
   "execution_count": 31,
   "metadata": {},
   "outputs": [],
   "source": [
    "class EvaluateExpression:\n",
    "  valid_char = '0123456789+-*/() '\n",
    "  def __init__(self, string=\"\"):\n",
    "    self.expression = string\n",
    "\n",
    "  @property\n",
    "  def expression(self):\n",
    "    return self._expression\n",
    "\n",
    "  @expression.setter\n",
    "  def expression(self, new_expr):\n",
    "    valid_exp = True#sets to false as long as a single character does not belong\n",
    "    for char in new_expr:\n",
    "      valid_exp = valid_exp and char in self.valid_char\n",
    "    if valid_exp:\n",
    "      self._expression = new_expr\n",
    "    else:\n",
    "      self._expression = \"\"\n",
    "\n",
    "        \n",
    "\n",
    "  "
   ]
  },
  {
   "cell_type": "code",
   "execution_count": 32,
   "metadata": {},
   "outputs": [],
   "source": [
    "expr1 = EvaluateExpression()\n",
    "assert expr1.expression == \"\"\n",
    "expr2 = EvaluateExpression(\"1 + 2\")\n",
    "assert expr2.expression == \"1 + 2\"\n",
    "expr2.expression = \"3 * 4\"\n",
    "assert expr2.expression == \"3 * 4\"\n",
    "expr2.expression = \"3 & 4\"\n",
    "assert expr2.expression == \"\""
   ]
  },
  {
   "cell_type": "markdown",
   "metadata": {},
   "source": [
    "**Q3.** The class `EvaluateExpression` also has the following method:\n",
    "- `insert_space()`: which is used to insert one empty space before an operator and another empty space after the operator in the `expression` property. The function should return a new String. Note that this means that if there are two operators side by side, there will be two empty space between them.\n",
    "\n"
   ]
  },
  {
   "cell_type": "code",
   "execution_count": 33,
   "metadata": {},
   "outputs": [],
   "source": [
    "class EvaluateExpression:\n",
    "  valid_char = '0123456789+-*/() '\n",
    "  def __init__(self, string=\"\"):\n",
    "    self.expression = string\n",
    "\n",
    "  @property\n",
    "  def expression(self):\n",
    "    return self._expression\n",
    "\n",
    "  @expression.setter\n",
    "  def expression(self, new_expr):\n",
    "    valid_exp = True#sets to false as long as a single character does not belong\n",
    "    for char in new_expr:\n",
    "      valid_exp = valid_exp and char in self.valid_char\n",
    "    if valid_exp:\n",
    "      self._expression = new_expr\n",
    "    else:\n",
    "      self._expression = \"\"\n",
    "\n",
    "  def insert_space(self):\n",
    "    spaced_str = \"\"\n",
    "    for i in self._expression:\n",
    "      if i in \"+-*/()\":\n",
    "        spaced_str += \" \" + i + \" \"\n",
    "      else:\n",
    "        spaced_str += i\n",
    "    return spaced_str\n"
   ]
  },
  {
   "cell_type": "code",
   "execution_count": 34,
   "metadata": {},
   "outputs": [],
   "source": [
    "expr1 = EvaluateExpression(\"(1+2)\")\n",
    "assert expr1.insert_space() == \" ( 1 + 2 ) \"\n",
    "expr1.expression = \"((1+2)*3/(4-5))\"\n",
    "assert expr1.insert_space() == \" (  ( 1 + 2 )  * 3 /  ( 4 - 5 )  ) \""
   ]
  },
  {
   "cell_type": "markdown",
   "metadata": {},
   "source": [
    "## Week 4"
   ]
  },
  {
   "cell_type": "markdown",
   "metadata": {},
   "source": [
    "**Q4.** The class `EvaluateExpression` also has the following methods:\n",
    "- `process_operator(operand_stack, operator_stack)`: which process one operator. This method should modify the Stacks provided in the arguments. Note that the division operator `/` should be considered as an integer division for this exercise. This means that you need to use `//` in Python."
   ]
  },
  {
   "cell_type": "code",
   "execution_count": 35,
   "metadata": {},
   "outputs": [],
   "source": [
    "class Stack:\n",
    "  def __init__(self):\n",
    "    self._items = []\n",
    "  \n",
    "  def push(self,char):\n",
    "    self._items.append(char)\n",
    "  \n",
    "  def pop(self):\n",
    "    return self._items.pop()\n",
    "\n",
    "  def peek(self):\n",
    "    return self._items[-1]\n"
   ]
  },
  {
   "cell_type": "code",
   "execution_count": 36,
   "metadata": {},
   "outputs": [],
   "source": [
    "class EvaluateExpression:\n",
    "  valid_char = '0123456789+-*/() '\n",
    "  def __init__(self, string=\"\"):\n",
    "    self.expression = string\n",
    "\n",
    "  @property\n",
    "  def expression(self):\n",
    "    return self._expression\n",
    "\n",
    "  @expression.setter\n",
    "  def expression(self, new_expr):\n",
    "    valid_exp = True#sets to false as long as a single character does not belong\n",
    "    for char in new_expr:\n",
    "      valid_exp = valid_exp and char in self.valid_char\n",
    "    if valid_exp:\n",
    "      self._expression = new_expr\n",
    "    else:\n",
    "      self._expression = \"\"\n",
    "\n",
    "  def insert_space(self):\n",
    "    spaced_str = \"\"\n",
    "    for i in self._expression:\n",
    "      if i in \"+-*/()\":\n",
    "        spaced_str += \" \" + i + \" \"\n",
    "      else:\n",
    "        spaced_str += i\n",
    "    return spaced_str\n",
    "\n",
    "  def process_operator(self, operand_stack, operator_stack):\n",
    "    right_operand = operand_stack.pop()\n",
    "    left_operand = operand_stack.pop()\n",
    "    operator = operator_stack.pop()\n",
    "    if operator == \"+\":\n",
    "      operand_stack.push(left_operand+right_operand)\n",
    "    elif operator == \"-\":\n",
    "      operand_stack.push(left_operand-right_operand)\n",
    "    elif operator == \"*\":\n",
    "      operand_stack.push(left_operand*right_operand)      \n",
    "    elif operator == \"/\":\n",
    "      operand_stack.push(left_operand//right_operand)\n",
    "\n",
    "    \n",
    "  "
   ]
  },
  {
   "cell_type": "code",
   "execution_count": 37,
   "metadata": {},
   "outputs": [],
   "source": [
    "expr1 = EvaluateExpression()\n",
    "operand_stack = Stack()\n",
    "operator_stack = Stack()\n",
    "operand_stack.push(3)\n",
    "operand_stack.push(4)\n",
    "operator_stack.push(\"+\")\n",
    "expr1.process_operator(operand_stack, operator_stack)\n",
    "assert operand_stack.peek() == 7\n",
    "operand_stack.push(5)\n",
    "operator_stack.push(\"*\")\n",
    "expr1.process_operator(operand_stack, operator_stack)\n",
    "assert operand_stack.peek() == 35\n",
    "operand_stack.push(30)\n",
    "operator_stack.push(\"-\")\n",
    "expr1.process_operator(operand_stack, operator_stack)\n",
    "assert operand_stack.peek() == 5\n",
    "operand_stack.push(2)\n",
    "operator_stack.push(\"/\")\n",
    "expr1.process_operator(operand_stack, operator_stack)\n",
    "assert operand_stack.peek() == 2"
   ]
  },
  {
   "cell_type": "markdown",
   "metadata": {},
   "source": [
    "**Q5.** The class `EvaluateExpression` also has the following methods:\n",
    "- `evaluate()`: which evaluate the mathematical expression contained in the property `expression`. The method should return an Integer. This method contains two processes:\n",
    "    - Phase 1: In this phase, the code scans the expression from left to right to extract operands, operators, and the parentheses.\n",
    "        1. If the extracted character is an operand, push it to `operand_stack`.\n",
    "        1. If the extracted character is + or - operator, process  all the operators at the top of the `operator_stack` and push the extracted operator to `operator_stack`. You should process all the operators as long as the `operator_stack` is not empty and the top of the `operator_stack` is not `(` or `)` symbols.\n",
    "        1. If the extracted character is a `*` or `/` operator, process all the `*` or `/` operators at the top of the `operator_stack` and push the extracted operator to `operator_stack`. \n",
    "        1. If the extracted character is a `(` symbol, push it to `operator_stack`.\n",
    "        1. If the extracted character is a `)` symbol, repeatedly process the operators from the top of `operator_stack` until seeing the `(` symbol on the stack. \n",
    "    - Phase 2: Repeatedly process the operators from the top of `operator_stack` until `operator_stack` is empty.\n"
   ]
  },
  {
   "cell_type": "code",
   "execution_count": 38,
   "metadata": {},
   "outputs": [],
   "source": [
    "class EvaluateExpression:\n",
    "  valid_char = '0123456789+-*/() '\n",
    "  def __init__(self, string=\"\"):\n",
    "    self.expression = string\n",
    "\n",
    "  @property\n",
    "  def expression(self):\n",
    "    return self._expression\n",
    "\n",
    "  @expression.setter\n",
    "  def expression(self, new_expr):\n",
    "    valid_exp = True#sets to false as long as a single character does not belong\n",
    "    for char in new_expr:\n",
    "      valid_exp = valid_exp and char in self.valid_char\n",
    "    if valid_exp:\n",
    "      self._expression = new_expr\n",
    "    else:\n",
    "      self._expression = \"\"\n",
    "\n",
    "  def insert_space(self):\n",
    "    spaced_str = \"\"\n",
    "    for i in self._expression:\n",
    "      if i in \"+-*/()\":\n",
    "        spaced_str += \" \" + i + \" \"\n",
    "      else:\n",
    "        spaced_str += i\n",
    "    return spaced_str\n",
    "\n",
    "  def process_operator(self, operand_stack, operator_stack):\n",
    "    right_operand = operand_stack.pop()\n",
    "    left_operand = operand_stack.pop()\n",
    "    operator = operator_stack.pop()\n",
    "    if operator == \"+\":\n",
    "      operand_stack.push(left_operand+right_operand)\n",
    "    elif operator == \"-\":\n",
    "      operand_stack.push(left_operand-right_operand)\n",
    "    elif operator == \"*\":\n",
    "      operand_stack.push(left_operand*right_operand)      \n",
    "    elif operator == \"/\":\n",
    "      operand_stack.push(left_operand//right_operand)\n",
    "\n",
    "      \n",
    "  def evaluate(self):\n",
    "\n",
    "    #if plus or minus, compute everything before\n",
    "    #if closed bracket, compute everything before\n",
    "    #if times or divide, then let it compound untill you hit either of the above\n",
    "\n",
    "    operand_stack = Stack()\n",
    "    operator_stack = Stack()\n",
    "    expression = self.insert_space()\n",
    "    tokens = expression.split()\n",
    "    for char in tokens:\n",
    "\n",
    "      \n",
    "      if char.isnumeric():\n",
    "        operand_stack.push(int(char))\n",
    "      elif char in \"+-\":\n",
    "        while(len(operator_stack._items) > 0 and operator_stack.peek() not in \"()\" ):\n",
    "          self.process_operator(operand_stack, operator_stack)\n",
    "        operator_stack.push(char)\n",
    "      elif char in \"*/\":\n",
    "        while(len(operator_stack._items) > 0 and operator_stack.peek() in \"*/\"):\n",
    "          self.process_operator(operand_stack, operator_stack)\n",
    "        operator_stack.push(char)      \n",
    "      elif char == \"(\":\n",
    "        operator_stack.push(char)\n",
    "      elif char == \")\":\n",
    "        while not(operator_stack.peek() == \"(\"):\n",
    "          self.process_operator( operand_stack, operator_stack)\n",
    "        operator_stack.pop()# to remove ( \"(\"\n",
    "      # print(char, operand_stack._items, operator_stack._items)\n",
    "\n",
    "      \n",
    "    while (len(operator_stack._items) > 0):\n",
    "      self.process_operator(operand_stack, operator_stack)\n",
    "    \n",
    "    return operand_stack.peek()\n",
    "    \n"
   ]
  },
  {
   "cell_type": "code",
   "execution_count": 39,
   "metadata": {},
   "outputs": [],
   "source": [
    "expr1 = EvaluateExpression(\"(1+2)*3\")\n",
    "assert expr1.evaluate() == 9\n",
    "expr1.expression = \"(1 + 2) * 4 - 3\"\n",
    "assert expr1.evaluate() == 9\n",
    "expr2 = EvaluateExpression(\"(1+2 *4-  3)* (7/5 * 6)\")\n",
    "assert expr2.evaluate() == 36\n",
    "expr3 = EvaluateExpression(\"5*(10*5*2+1)\")\n",
    "assert expr3.evaluate() == 505"
   ]
  },
  {
   "cell_type": "code",
   "execution_count": null,
   "metadata": {},
   "outputs": [],
   "source": []
  },
  {
   "cell_type": "code",
   "execution_count": null,
   "metadata": {},
   "outputs": [],
   "source": []
  }
 ],
 "metadata": {
  "kernelspec": {
   "display_name": "Python 3.9.13 64-bit (microsoft store)",
   "language": "python",
   "name": "python3"
  },
  "language_info": {
   "codemirror_mode": {
    "name": "ipython",
    "version": 3
   },
   "file_extension": ".py",
   "mimetype": "text/x-python",
   "name": "python",
   "nbconvert_exporter": "python",
   "pygments_lexer": "ipython3",
   "version": "3.9.13"
  },
  "vscode": {
   "interpreter": {
    "hash": "2c5c7ecc9c7d5787fd8dce6b9b5c847c4bf53694a33005f9e7edf1fe4085ac74"
   }
  }
 },
 "nbformat": 4,
 "nbformat_minor": 4
}
